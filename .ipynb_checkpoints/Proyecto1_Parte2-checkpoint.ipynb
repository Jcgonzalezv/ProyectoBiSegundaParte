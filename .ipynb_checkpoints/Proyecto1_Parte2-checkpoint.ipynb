{
 "cells": [
  {
   "cell_type": "code",
   "execution_count": 1,
   "id": "fcb9dce7-de9a-48dd-b259-8688e68a4fb9",
   "metadata": {},
   "outputs": [],
   "source": [
    "# Instalación de librerias\n",
    "import pandas as pd\n",
    "import numpy as np\n",
    "import sys\n",
    "from pandas_profiling import ProfileReport\n",
    "\n",
    "import re, string, unicodedata\n",
    "import contractions\n",
    "import inflect\n",
    "from nltk import word_tokenize, sent_tokenize\n",
    "from nltk.corpus import stopwords\n",
    "from nltk.stem import LancasterStemmer, WordNetLemmatizer\n",
    "\n",
    "from sklearn.model_selection import train_test_split,GridSearchCV\n",
    "from sklearn.feature_extraction.text import TfidfVectorizer, CountVectorizer, HashingVectorizer\n",
    "from sklearn.pipeline import Pipeline, FeatureUnion\n",
    "from sklearn.svm import SVC\n",
    "from sklearn.ensemble import BaggingClassifier, RandomForestClassifier, AdaBoostClassifier\n",
    "from sklearn.naive_bayes import BernoulliNB\n",
    "from sklearn.metrics import classification_report, confusion_matrix, plot_precision_recall_curve\n",
    "from sklearn.base import BaseEstimator, ClassifierMixin\n",
    "\n",
    "from sklearn.cluster import AgglomerativeClustering\n",
    "from scipy.cluster.hierarchy import dendrogram\n",
    "from gensim.parsing.preprocessing import STOPWORDS\n",
    "from sklearn.feature_extraction.text import TfidfVectorizer\n",
    "\n",
    "\n",
    "from sklearn.compose import ColumnTransformer\n",
    "\n",
    "from sklearn.metrics import mean_squared_error, mean_absolute_error, r2_score\n",
    "\n",
    "import matplotlib.pyplot as plt\n",
    "\n",
    "import json"
   ]
  },
  {
   "cell_type": "code",
   "execution_count": 36,
   "id": "9e8ea631-07dd-49ee-adb3-dc4ce6eb1bb5",
   "metadata": {},
   "outputs": [],
   "source": [
    "# Uso de la libreria pandas para la lectura de archivos\n",
    "data=pd.read_csv('../Proyecto 1 Data/clinical_trials_on_cancer_data_clasificacion.csv', sep=',', encoding = 'utf-8')\n",
    "# Asignación a una nueva variable de los datos leidos\n",
    "data_t=data\n",
    "\n",
    "data_t.head().to_json(r'DataFrame_First.json')"
   ]
  },
  {
   "cell_type": "code",
   "execution_count": 42,
   "id": "f77adb46-b83c-412e-aad2-c32ae31639c1",
   "metadata": {},
   "outputs": [
    {
     "data": {
      "text/html": [
       "<div>\n",
       "<style scoped>\n",
       "    .dataframe tbody tr th:only-of-type {\n",
       "        vertical-align: middle;\n",
       "    }\n",
       "\n",
       "    .dataframe tbody tr th {\n",
       "        vertical-align: top;\n",
       "    }\n",
       "\n",
       "    .dataframe thead th {\n",
       "        text-align: right;\n",
       "    }\n",
       "</style>\n",
       "<table border=\"1\" class=\"dataframe\">\n",
       "  <thead>\n",
       "    <tr style=\"text-align: right;\">\n",
       "      <th></th>\n",
       "      <th>label</th>\n",
       "      <th>study_and_condition</th>\n",
       "    </tr>\n",
       "  </thead>\n",
       "  <tbody>\n",
       "    <tr>\n",
       "      <th>0</th>\n",
       "      <td>__label__0</td>\n",
       "      <td>study interventions are Saracatinib . recurren...</td>\n",
       "    </tr>\n",
       "    <tr>\n",
       "      <th>1</th>\n",
       "      <td>__label__1</td>\n",
       "      <td>study interventions are Stem cell transplantat...</td>\n",
       "    </tr>\n",
       "    <tr>\n",
       "      <th>2</th>\n",
       "      <td>__label__0</td>\n",
       "      <td>study interventions are Lenograstim . recurren...</td>\n",
       "    </tr>\n",
       "    <tr>\n",
       "      <th>3</th>\n",
       "      <td>__label__0</td>\n",
       "      <td>study interventions are Doxorubicin . stage ii...</td>\n",
       "    </tr>\n",
       "    <tr>\n",
       "      <th>4</th>\n",
       "      <td>__label__1</td>\n",
       "      <td>study interventions are Poly I-C . prostate ca...</td>\n",
       "    </tr>\n",
       "  </tbody>\n",
       "</table>\n",
       "</div>"
      ],
      "text/plain": [
       "        label                                study_and_condition\n",
       "0  __label__0  study interventions are Saracatinib . recurren...\n",
       "1  __label__1  study interventions are Stem cell transplantat...\n",
       "2  __label__0  study interventions are Lenograstim . recurren...\n",
       "3  __label__0  study interventions are Doxorubicin . stage ii...\n",
       "4  __label__1  study interventions are Poly I-C . prostate ca..."
      ]
     },
     "execution_count": 42,
     "metadata": {},
     "output_type": "execute_result"
    }
   ],
   "source": []
  },
  {
   "cell_type": "code",
   "execution_count": 3,
   "id": "2778e0fd-71f6-452f-99de-3ea0afe44196",
   "metadata": {},
   "outputs": [],
   "source": [
    "Y = data_t[\"label\"]\n",
    "X = data_t.drop([\"label\"], axis=1)"
   ]
  },
  {
   "cell_type": "code",
   "execution_count": 4,
   "id": "d2a52984-36ad-4689-beab-f6935a104592",
   "metadata": {},
   "outputs": [],
   "source": [
    "Y = Y.replace({'__label__0': 0, '__label__1': 1})"
   ]
  },
  {
   "cell_type": "code",
   "execution_count": 5,
   "id": "3788a99e-332c-4369-a50c-7a02145bd8b9",
   "metadata": {},
   "outputs": [],
   "source": [
    "x_arr = X.to_numpy()\n",
    "y_arr = Y.to_numpy()"
   ]
  },
  {
   "cell_type": "code",
   "execution_count": 6,
   "id": "6ed311ea-084a-4322-8871-52884ba28e36",
   "metadata": {},
   "outputs": [
    {
     "data": {
      "text/plain": [
       "(12000, 1)"
      ]
     },
     "execution_count": 6,
     "metadata": {},
     "output_type": "execute_result"
    }
   ],
   "source": [
    "x_arr.shape"
   ]
  },
  {
   "cell_type": "code",
   "execution_count": 7,
   "id": "85e0a288-5b61-44ef-acbe-17576deff0dc",
   "metadata": {},
   "outputs": [],
   "source": [
    "flat_array_x = x_arr.flatten()\n",
    "flat_array_y = y_arr.flatten()"
   ]
  },
  {
   "cell_type": "code",
   "execution_count": 8,
   "id": "7bb201ca-c2b5-4250-a363-bc420f51305c",
   "metadata": {},
   "outputs": [],
   "source": [
    "with open(\"x_arr.json\", \"w\") as f:\n",
    "    json.dump(flat_array_x.tolist(), f)"
   ]
  },
  {
   "cell_type": "code",
   "execution_count": 9,
   "id": "712e326e-a97e-497e-ad8d-6f8c9a45855e",
   "metadata": {},
   "outputs": [],
   "source": [
    "with open(\"y_arr.json\", \"w\") as f:\n",
    "    json.dump(flat_array_y.tolist(), f)"
   ]
  },
  {
   "cell_type": "code",
   "execution_count": 10,
   "id": "67eaa97d-1c99-4df1-abca-6a74df08324c",
   "metadata": {},
   "outputs": [
    {
     "data": {
      "text/plain": [
       "(12000,)"
      ]
     },
     "execution_count": 10,
     "metadata": {},
     "output_type": "execute_result"
    }
   ],
   "source": [
    "flat_array_y.shape"
   ]
  },
  {
   "cell_type": "code",
   "execution_count": 11,
   "id": "6656f1e7-a07f-4376-af8f-4638e5b7be92",
   "metadata": {},
   "outputs": [
    {
     "data": {
      "text/plain": [
       "array(['study interventions are Saracatinib . recurrent verrucous carcinoma of the larynx diagnosis and patients must agree to use adequate birth control for the duration of study participation and for at least eight weeks after discontinuation of study drug',\n",
       "       'study interventions are Stem cell transplantation . hodgkin lymphoma diagnosis and history of congenital hematologic immunologic or metabolic disorder which in the estimation of the pi poses prohibitive risk to the recipient',\n",
       "       'study interventions are Lenograstim . recurrent adult diffuse mixed cell lymphoma diagnosis and creatinine clearance crcl greater than fifty ml per minute all tests must be performed within twenty-eight days prior to registration',\n",
       "       ...,\n",
       "       'study interventions are Antibodies, Monoclonal . recurrent lymphoblastic lymphoma diagnosis and and intrathecal intraventricular therapy',\n",
       "       'study interventions are Vorinostat . colorectal cancer diagnosis and patients must have received at least one prior chemotherapy regimen for advanced disease',\n",
       "       \"study interventions are Freund's Adjuvant . ovarian cancer diagnosis and more than four weeks since prior participation in any other investigational study\"],\n",
       "      dtype=object)"
      ]
     },
     "execution_count": 11,
     "metadata": {},
     "output_type": "execute_result"
    }
   ],
   "source": [
    "flat_array_x"
   ]
  },
  {
   "cell_type": "code",
   "execution_count": 12,
   "id": "332e342e-1943-47b1-9c58-0cc93ab89675",
   "metadata": {},
   "outputs": [],
   "source": [
    "vectorizer = TfidfVectorizer(stop_words=STOPWORDS)"
   ]
  },
  {
   "cell_type": "code",
   "execution_count": 14,
   "id": "7cab50a5-4466-40f0-b5c6-7c9a8a931b97",
   "metadata": {},
   "outputs": [],
   "source": [
    "v = vectorizer.fit_transform(flat_array_x)"
   ]
  },
  {
   "cell_type": "code",
   "execution_count": 15,
   "id": "4b8cd096-fe6c-40dc-9478-4ca778396e4e",
   "metadata": {},
   "outputs": [],
   "source": [
    "va = v.toarray()"
   ]
  },
  {
   "cell_type": "code",
   "execution_count": 16,
   "id": "e97601ad-7910-4e60-ac34-9a3339800e0c",
   "metadata": {},
   "outputs": [
    {
     "name": "stdout",
     "output_type": "stream",
     "text": [
      "12000 8157\n"
     ]
    }
   ],
   "source": [
    "num_rows, num_cols = va.shape\n",
    "print(num_rows, num_cols)"
   ]
  },
  {
   "cell_type": "code",
   "execution_count": 17,
   "id": "ea31522c-901f-4e08-b6bd-d8f6b674e397",
   "metadata": {},
   "outputs": [],
   "source": [
    "# Dividir los datos en entrenamiento y test\n",
    "X_train, X_test, Y_train, Y_test = train_test_split(va, Y, test_size=0.2, random_state=0)"
   ]
  },
  {
   "cell_type": "code",
   "execution_count": 18,
   "id": "dd0808d0-ddfe-4f1f-9f4b-5e9f4c560085",
   "metadata": {},
   "outputs": [],
   "source": [
    "from sklearn.naive_bayes import MultinomialNB\n",
    "clf = MultinomialNB().fit(X_train, Y_train)"
   ]
  },
  {
   "cell_type": "code",
   "execution_count": 19,
   "id": "6cfd15f4-d042-4cd0-832d-6a41aa5c50e2",
   "metadata": {},
   "outputs": [],
   "source": [
    "y_pred = clf.predict(X_test)"
   ]
  },
  {
   "cell_type": "code",
   "execution_count": 20,
   "id": "936e84d0-d7e2-4ac9-8320-8cd799591b43",
   "metadata": {},
   "outputs": [
    {
     "name": "stdout",
     "output_type": "stream",
     "text": [
      "              precision    recall  f1-score   support\n",
      "\n",
      "           0       0.80      0.76      0.78      1228\n",
      "           1       0.76      0.80      0.78      1172\n",
      "\n",
      "    accuracy                           0.78      2400\n",
      "   macro avg       0.78      0.78      0.78      2400\n",
      "weighted avg       0.78      0.78      0.78      2400\n",
      "\n"
     ]
    }
   ],
   "source": [
    "from sklearn.metrics import confusion_matrix, classification_report, precision_score, recall_score, f1_score, accuracy_score\n",
    "\n",
    "# Mostrar reporte de clasificación\n",
    "print(classification_report(Y_test, y_pred))"
   ]
  },
  {
   "cell_type": "code",
   "execution_count": 21,
   "id": "8d36e7cb-2454-4464-89ad-722e874c9909",
   "metadata": {},
   "outputs": [
    {
     "name": "stdout",
     "output_type": "stream",
     "text": [
      "True\n"
     ]
    }
   ],
   "source": [
    "t = type(X)\n",
    "t_str = str(t)\n",
    "print(t_str == \"<class 'pandas.core.frame.DataFrame'>\")"
   ]
  },
  {
   "cell_type": "code",
   "execution_count": 22,
   "id": "469431e7-dbae-4ac2-bfc2-00175cda6f7d",
   "metadata": {},
   "outputs": [],
   "source": [
    "# Modelo\n",
    "model = [('model', MultinomialNB())]"
   ]
  },
  {
   "cell_type": "code",
   "execution_count": 23,
   "id": "29b6f004-4835-4e8f-b580-502d38a89d55",
   "metadata": {},
   "outputs": [],
   "source": [
    "# Preprocesamiento\n",
    "from Array_Transformer import Array_Transformer\n",
    "\n",
    "pre = [('arrayer', Array_Transformer()),\n",
    "    ('vectorizer', TfidfVectorizer(stop_words=STOPWORDS))]\n",
    "\n",
    "# Decalra el pipeline\n",
    "pipeline = Pipeline(pre+model)"
   ]
  },
  {
   "cell_type": "code",
   "execution_count": 26,
   "id": "6fbe3bc0-32c1-4dcd-9171-520c0392e060",
   "metadata": {},
   "outputs": [],
   "source": [
    "# Dividir los datos en entrenamiento y test\n",
    "X_train, X_test, Y_train, Y_test = train_test_split(flat_array_x, flat_array_y, test_size=0.2, random_state=0)"
   ]
  },
  {
   "cell_type": "code",
   "execution_count": 27,
   "id": "23be8e18-13bb-4d2b-937d-df44c8846551",
   "metadata": {},
   "outputs": [],
   "source": [
    "pipeline = pipeline.fit(X_train,Y_train)"
   ]
  },
  {
   "cell_type": "code",
   "execution_count": 28,
   "id": "9ace9a2a-5f7b-44a0-a0fb-9ff6dad0a5df",
   "metadata": {},
   "outputs": [
    {
     "name": "stdout",
     "output_type": "stream",
     "text": [
      "MSE: 0.39\n",
      "MAE: 0.15\n",
      "R²: 0.38\n"
     ]
    }
   ],
   "source": [
    "y_pred = pipeline.predict(X_train)\n",
    "# Se obtienen las métricas a partir de la predicción y la base de evaluación (valores reales).\n",
    "print(\"MSE: %.2f\" % mean_squared_error(Y_train, y_pred, squared=False))\n",
    "print(\"MAE: %.2f\" % mean_absolute_error(Y_train, y_pred))\n",
    "print('R²: %.2f' % r2_score(Y_train, y_pred))"
   ]
  },
  {
   "cell_type": "code",
   "execution_count": 29,
   "id": "da7e528c-6261-4fde-876d-3d10a48664f8",
   "metadata": {},
   "outputs": [
    {
     "name": "stdout",
     "output_type": "stream",
     "text": [
      "              precision    recall  f1-score   support\n",
      "\n",
      "           0       0.85      0.83      0.84      4772\n",
      "           1       0.84      0.86      0.85      4828\n",
      "\n",
      "    accuracy                           0.85      9600\n",
      "   macro avg       0.85      0.85      0.85      9600\n",
      "weighted avg       0.85      0.85      0.85      9600\n",
      "\n"
     ]
    }
   ],
   "source": [
    "from sklearn.metrics import confusion_matrix, classification_report, precision_score, recall_score, f1_score, accuracy_score\n",
    "\n",
    "# Mostrar reporte de clasificación\n",
    "print(classification_report(Y_train, y_pred))"
   ]
  },
  {
   "cell_type": "code",
   "execution_count": 30,
   "id": "8ab45d41-1268-4c21-9716-4bcb485d2147",
   "metadata": {},
   "outputs": [
    {
     "name": "stdout",
     "output_type": "stream",
     "text": [
      "MSE: 0.41\n",
      "MAE: 0.17\n",
      "R²: 0.33\n"
     ]
    }
   ],
   "source": [
    "y_pred = pipeline.predict(X)\n",
    "# Se obtienen las métricas a partir de la predicción y la base de evaluación (valores reales).\n",
    "print(\"MSE: %.2f\" % mean_squared_error(Y, y_pred, squared=False))\n",
    "print(\"MAE: %.2f\" % mean_absolute_error(Y, y_pred))\n",
    "print('R²: %.2f' % r2_score(Y, y_pred))"
   ]
  },
  {
   "cell_type": "code",
   "execution_count": 33,
   "id": "6a6ada24-2ca9-4e6d-a9d5-4d6d88896ea4",
   "metadata": {},
   "outputs": [
    {
     "data": {
      "text/plain": [
       "['Pry1_Prt2_Custom.joblib']"
      ]
     },
     "execution_count": 33,
     "metadata": {},
     "output_type": "execute_result"
    }
   ],
   "source": [
    "# Una forma de guardar el modelo es a través de la funcionalidad joblib.\n",
    "import joblib\n",
    "# Ahora guardamos el modelo con el nombre que selecciones.\n",
    "joblib.dump(pipeline, 'Pry1_Prt2_Custom.joblib')\n",
    "# Si lo quieres recuperar más tarde puedes utilizar la siguiente instrucción:\n",
    "#modelo = joblib.load('Pry1_Prt2.joblib')"
   ]
  },
  {
   "cell_type": "code",
   "execution_count": null,
   "id": "9e1ced8c-110a-4f2b-9022-fe11644094ce",
   "metadata": {},
   "outputs": [],
   "source": [
    "\n",
    "# Ahora guardamos el modelo con el nombre que selecciones.\n",
    "X.to_json (r'X.json')\n",
    "# Si lo quieres recuperar más tarde puedes utilizar la siguiente instrucción:\n",
    "# modelo = load('ModeloRegresion.joblib')"
   ]
  },
  {
   "cell_type": "code",
   "execution_count": null,
   "id": "c26ab840-194f-47a3-97b6-f071817359ae",
   "metadata": {},
   "outputs": [],
   "source": [
    "modelo = modelo.fit(X,Y)"
   ]
  },
  {
   "cell_type": "code",
   "execution_count": null,
   "id": "ac906d20-5640-4807-8108-43e67c190678",
   "metadata": {},
   "outputs": [],
   "source": [
    "y_pred = modelo.predict(X)\n",
    "# Se obtienen las métricas a partir de la predicción y la base de evaluación (valores reales).\n",
    "print(\"MSE: %.2f\" % mean_squared_error(Y, y_pred, squared=False))\n",
    "print(\"MAE: %.2f\" % mean_absolute_error(Y, y_pred))\n",
    "print('R²: %.2f' % r2_score(Y, y_pred))"
   ]
  },
  {
   "cell_type": "code",
   "execution_count": 34,
   "id": "66413a84-4db4-4ea4-a992-6f5226d0daa7",
   "metadata": {},
   "outputs": [],
   "source": [
    "pre = [('vectorizer', TfidfVectorizer(stop_words=STOPWORDS))]\n",
    "\n",
    "# Decalra el pipeline\n",
    "pipeline = Pipeline(pre+model)"
   ]
  },
  {
   "cell_type": "code",
   "execution_count": 35,
   "id": "b6f10e1e-52ad-4473-a837-fb843249157c",
   "metadata": {},
   "outputs": [
    {
     "data": {
      "text/plain": [
       "['Pry1_Prt2.joblib']"
      ]
     },
     "execution_count": 35,
     "metadata": {},
     "output_type": "execute_result"
    }
   ],
   "source": [
    "joblib.dump(pipeline, 'Pry1_Prt2.joblib')"
   ]
  },
  {
   "cell_type": "code",
   "execution_count": null,
   "id": "8eef4369-7df3-489c-82c5-06101f1cfdc9",
   "metadata": {},
   "outputs": [],
   "source": []
  }
 ],
 "metadata": {
  "kernelspec": {
   "display_name": "Python 3 (ipykernel)",
   "language": "python",
   "name": "python3"
  },
  "language_info": {
   "codemirror_mode": {
    "name": "ipython",
    "version": 3
   },
   "file_extension": ".py",
   "mimetype": "text/x-python",
   "name": "python",
   "nbconvert_exporter": "python",
   "pygments_lexer": "ipython3",
   "version": "3.9.7"
  }
 },
 "nbformat": 4,
 "nbformat_minor": 5
}
